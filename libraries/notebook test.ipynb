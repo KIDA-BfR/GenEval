{
 "cells": [
  {
   "cell_type": "code",
   "execution_count": 32,
   "id": "1602b4fc",
   "metadata": {},
   "outputs": [
    {
     "name": "stdout",
     "output_type": "stream",
     "text": [
      "Incorrect\n"
     ]
    }
   ],
   "source": [
    "from libraries.valid_class_3 import StringColumnProcessor as scp\n",
    "\n",
    "a = scp()\n",
    "print(a.compare(a.process(\"Vive le vent\"), a.process(\"VIVEs le vent\")))"
   ]
  },
  {
   "cell_type": "code",
   "execution_count": null,
   "id": "b8d99b7c",
   "metadata": {},
   "outputs": [
    {
     "name": "stdout",
     "output_type": "stream",
     "text": [
      "Incorrect\n"
     ]
    }
   ],
   "source": [
    "from libraries.valid_class_3 import StringColumnNoisyProcessor as scnp\n",
    "\n",
    "a = scnp()\n",
    "print(a.compare(a.process(\"Vive le vent\"), a.process(\"VIVEvddfqhhrs le vent\")))"
   ]
  },
  {
   "cell_type": "code",
   "execution_count": null,
   "id": "19d6c2e0",
   "metadata": {},
   "outputs": [
    {
     "name": "stdout",
     "output_type": "stream",
     "text": [
      "Incorrect\n"
     ]
    }
   ],
   "source": [
    "from libraries.valid_class_3 import NumericColumnProcessor as ncp\n",
    "\n",
    "a = ncp()\n",
    "print(a.compare(a.process(13), a.process(12)))\n"
   ]
  },
  {
   "cell_type": "code",
   "execution_count": 18,
   "id": "c54281c8",
   "metadata": {},
   "outputs": [
    {
     "name": "stdout",
     "output_type": "stream",
     "text": [
      "Correct\n"
     ]
    }
   ],
   "source": [
    "from libraries.valid_class_3 import Ordered_List_of_Numbers_ColumnProcessor as olncp\n",
    "\n",
    "a = olncp()\n",
    "print(a.compare(a.process(\"1,2,3,4\"), a.process(\"1,2,3,4\")))"
   ]
  }
 ],
 "metadata": {
  "kernelspec": {
   "display_name": "Python 3",
   "language": "python",
   "name": "python3"
  },
  "language_info": {
   "codemirror_mode": {
    "name": "ipython",
    "version": 3
   },
   "file_extension": ".py",
   "mimetype": "text/x-python",
   "name": "python",
   "nbconvert_exporter": "python",
   "pygments_lexer": "ipython3",
   "version": "3.13.4"
  }
 },
 "nbformat": 4,
 "nbformat_minor": 5
}

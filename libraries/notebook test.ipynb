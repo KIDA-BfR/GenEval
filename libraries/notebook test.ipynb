{
 "cells": [
  {
   "cell_type": "code",
   "execution_count": 10,
   "id": "1602b4fc",
   "metadata": {},
   "outputs": [
    {
     "data": {
      "text/plain": [
       "'Correct'"
      ]
     },
     "execution_count": 10,
     "metadata": {},
     "output_type": "execute_result"
    }
   ],
   "source": [
    "from libraries.valid_process_class import ColumnProcessor\n",
    "from libraries.valid_process_class import StringColumnProcessor as scp\n",
    "\n",
    "a = scp()\n",
    "a.process(\"Vive le vent\")\n",
    "a.compare(\"Vive le vent\", \"Vive le vent\")"
   ]
  },
  {
   "cell_type": "code",
   "execution_count": 13,
   "id": "b8d99b7c",
   "metadata": {},
   "outputs": [
    {
     "ename": "ImportError",
     "evalue": "cannot import name 'StringColumnNoisyProcessor' from 'libraries.valid_process_class' (c:\\Users\\meltr\\OneDrive\\Documents\\(APT2)\\D4\\STAGE\\github\\GenEval\\libraries\\libraries\\valid_process_class.py)",
     "output_type": "error",
     "traceback": [
      "\u001b[31m---------------------------------------------------------------------------\u001b[39m",
      "\u001b[31mImportError\u001b[39m                               Traceback (most recent call last)",
      "\u001b[36mCell\u001b[39m\u001b[36m \u001b[39m\u001b[32mIn[13]\u001b[39m\u001b[32m, line 2\u001b[39m\n\u001b[32m      1\u001b[39m \u001b[38;5;28;01mfrom\u001b[39;00m\u001b[38;5;250m \u001b[39m\u001b[34;01mlibraries\u001b[39;00m\u001b[34;01m.\u001b[39;00m\u001b[34;01mvalid_process_class\u001b[39;00m\u001b[38;5;250m \u001b[39m\u001b[38;5;28;01mimport\u001b[39;00m ColumnProcessor\n\u001b[32m----> \u001b[39m\u001b[32m2\u001b[39m \u001b[38;5;28;01mfrom\u001b[39;00m\u001b[38;5;250m \u001b[39m\u001b[34;01mlibraries\u001b[39;00m\u001b[34;01m.\u001b[39;00m\u001b[34;01mvalid_process_class\u001b[39;00m\u001b[38;5;250m \u001b[39m\u001b[38;5;28;01mimport\u001b[39;00m StringColumnNoisyProcessor \u001b[38;5;28;01mas\u001b[39;00m scnp\n\u001b[32m      4\u001b[39m a = scnp()\n\u001b[32m      5\u001b[39m a.process(\u001b[33m\"\u001b[39m\u001b[33mVive le vent\u001b[39m\u001b[33m\"\u001b[39m)\n",
      "\u001b[31mImportError\u001b[39m: cannot import name 'StringColumnNoisyProcessor' from 'libraries.valid_process_class' (c:\\Users\\meltr\\OneDrive\\Documents\\(APT2)\\D4\\STAGE\\github\\GenEval\\libraries\\libraries\\valid_process_class.py)"
     ]
    }
   ],
   "source": [
    "from libraries.valid_process_class import ColumnProcessor\n",
    "from libraries.valid_process_class import StringColumnNoisyProcessor as scnp\n",
    "\n",
    "a = scnp()\n",
    "a.process(\"Vive le vent\")\n",
    "a.compare(\"Vive le vent\", \"VIVE le vent\")"
   ]
  },
  {
   "cell_type": "code",
   "execution_count": 6,
   "id": "6a9f5b9b",
   "metadata": {},
   "outputs": [
    {
     "ename": "ImportError",
     "evalue": "cannot import name 'KeywordListColumnProcessor' from 'libraries.valid_process_class' (c:\\Users\\meltr\\OneDrive\\Documents\\(APT2)\\D4\\STAGE\\github\\GenEval\\libraries\\libraries\\valid_process_class.py)",
     "output_type": "error",
     "traceback": [
      "\u001b[31m---------------------------------------------------------------------------\u001b[39m",
      "\u001b[31mImportError\u001b[39m                               Traceback (most recent call last)",
      "\u001b[36mCell\u001b[39m\u001b[36m \u001b[39m\u001b[32mIn[6]\u001b[39m\u001b[32m, line 2\u001b[39m\n\u001b[32m      1\u001b[39m \u001b[38;5;28;01mfrom\u001b[39;00m\u001b[38;5;250m \u001b[39m\u001b[34;01mlibraries\u001b[39;00m\u001b[34;01m.\u001b[39;00m\u001b[34;01mvalid_process_class\u001b[39;00m\u001b[38;5;250m \u001b[39m\u001b[38;5;28;01mimport\u001b[39;00m ColumnProcessor\n\u001b[32m----> \u001b[39m\u001b[32m2\u001b[39m \u001b[38;5;28;01mfrom\u001b[39;00m\u001b[38;5;250m \u001b[39m\u001b[34;01mlibraries\u001b[39;00m\u001b[34;01m.\u001b[39;00m\u001b[34;01mvalid_process_class\u001b[39;00m\u001b[38;5;250m \u001b[39m\u001b[38;5;28;01mimport\u001b[39;00m KeywordListColumnProcessor \u001b[38;5;28;01mas\u001b[39;00m klp\n\u001b[32m      4\u001b[39m a = klp()\n\u001b[32m      5\u001b[39m a.process([\u001b[33m\"\u001b[39m\u001b[33mjamais\u001b[39m\u001b[33m\"\u001b[39m,\u001b[33m\"\u001b[39m\u001b[33msouvent\u001b[39m\u001b[33m\"\u001b[39m,\u001b[33m\"\u001b[39m\u001b[33mtoujours\u001b[39m\u001b[33m\"\u001b[39m])\n",
      "\u001b[31mImportError\u001b[39m: cannot import name 'KeywordListColumnProcessor' from 'libraries.valid_process_class' (c:\\Users\\meltr\\OneDrive\\Documents\\(APT2)\\D4\\STAGE\\github\\GenEval\\libraries\\libraries\\valid_process_class.py)"
     ]
    }
   ],
   "source": [
    "from libraries.valid_process_class import ColumnProcessor\n",
    "from libraries.valid_process_class import KeywordListColumnProcessor as klp\n",
    "\n",
    "a = klp()\n",
    "a.process([\"jamais\",\"souvent\",\"toujours\"])\n"
   ]
  },
  {
   "cell_type": "code",
   "execution_count": 16,
   "id": "19d6c2e0",
   "metadata": {},
   "outputs": [
    {
     "data": {
      "text/plain": [
       "'Correct'"
      ]
     },
     "execution_count": 16,
     "metadata": {},
     "output_type": "execute_result"
    }
   ],
   "source": [
    "from libraries.valid_process_scnp import ColumnProcessor\n",
    "from libraries.valid_process_scnp import StringColumnNoisyProcessor as scnp\n",
    "\n",
    "a = scnp()\n",
    "a.process(\"Vive le vent\")\n",
    "a.compare(\"Vive le vent\", \"Vive le vent\")"
   ]
  }
 ],
 "metadata": {
  "kernelspec": {
   "display_name": "Python 3",
   "language": "python",
   "name": "python3"
  },
  "language_info": {
   "codemirror_mode": {
    "name": "ipython",
    "version": 3
   },
   "file_extension": ".py",
   "mimetype": "text/x-python",
   "name": "python",
   "nbconvert_exporter": "python",
   "pygments_lexer": "ipython3",
   "version": "3.13.4"
  }
 },
 "nbformat": 4,
 "nbformat_minor": 5
}
